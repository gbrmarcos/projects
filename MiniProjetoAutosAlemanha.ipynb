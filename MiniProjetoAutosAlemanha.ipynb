{
  "cells": [
    {
      "cell_type": "markdown",
      "metadata": {
        "id": "O2WHrKzSwzCF"
      },
      "source": [
        "# **Mini-Projeto: Análise Exploratória de Carros à Venda na Alemanha**\n",
        "\n",
        "Você é um analista de dados em Frankfurt e você foi alocado no time de vendas. Sua tarefa é analisar um dataset com os detalhes de carros que estão à venda na Alemanha através do eBay.\n",
        "\n",
        "Após uma conversa inicial, foram alinhadas as seguintes perguntas de negócio:\n",
        "\n",
        "\n",
        "1.   Qual a distribuição de carros de acordo com o ano de registro?\n",
        "2.   Avalie se existem valores discrepantes nas variações dos preços de venda de acordo com a marca.\n",
        "1.   Qual o número de veículos pertencentes a cada tipo de combustível?\n",
        "2.   Qual o preço médio dos veículos de acordo com o tipo de caixa de câmbio e o tipo de combustível?\n",
        "2.   Quais os tipos de veículos com a maior potência média?\n",
        "1.   Avalie o preço médio de um veículo por marca, bem como tipo de veículo\n",
        "\n",
        "*Disclaimer:* o conjunto de dados \"autos\" foi retirado diretamento do Kaggle, baixado a partir do [GitHub da Data Science Academy](http://github.com/dsacademybr). A descrição do mini-projeto e as perguntas de negócio foram baseadas no Curso [Python Fundamentos para Análise de Dados](https://www.datascienceacademy.com.br), curso GRATUITO e muito complexo que recomendo e todos(as) que queiram aprender Python.\n",
        "\n",
        "\n",
        "\n",
        "\n",
        "\n",
        "\n",
        "\n",
        "\n"
      ]
    },
    {
      "cell_type": "code",
      "execution_count": null,
      "metadata": {
        "id": "72JWVSDPwue-"
      },
      "outputs": [],
      "source": [
        "# Imports\n",
        "import numpy as np\n",
        "import pandas as pd\n",
        "import matplotlib.pyplot as plt\n",
        "import seaborn as sns\n",
        "sns.set_style(\"whitegrid\")\n",
        "plt.style.use(\"ggplot\")\n",
        "%matplotlib inline"
      ]
    },
    {
      "cell_type": "code",
      "execution_count": null,
      "metadata": {
        "id": "W0xJpCGW0ha5"
      },
      "outputs": [],
      "source": [
        "# Carregando o dataset\n",
        "df = pd.read_csv(\"autos.csv\", sep = ',')"
      ]
    },
    {
      "cell_type": "markdown",
      "metadata": {
        "id": "5P_lmTyG_7dP"
      },
      "source": [
        "Processo de preparação e exploração dos dados"
      ]
    },
    {
      "cell_type": "code",
      "execution_count": null,
      "metadata": {
        "colab": {
          "base_uri": "https://localhost:8080/",
          "height": 357
        },
        "id": "z-N_Fbps_7dS",
        "outputId": "ff222d20-4f01-45d1-d969-9e547a8c2c16"
      },
      "outputs": [
        {
          "output_type": "execute_result",
          "data": {
            "text/html": [
              "\n",
              "  <div id=\"df-c3dc9dcb-e514-4423-8c36-e33e0782f09d\">\n",
              "    <div class=\"colab-df-container\">\n",
              "      <div>\n",
              "<style scoped>\n",
              "    .dataframe tbody tr th:only-of-type {\n",
              "        vertical-align: middle;\n",
              "    }\n",
              "\n",
              "    .dataframe tbody tr th {\n",
              "        vertical-align: top;\n",
              "    }\n",
              "\n",
              "    .dataframe thead th {\n",
              "        text-align: right;\n",
              "    }\n",
              "</style>\n",
              "<table border=\"1\" class=\"dataframe\">\n",
              "  <thead>\n",
              "    <tr style=\"text-align: right;\">\n",
              "      <th></th>\n",
              "      <th>dateCrawled</th>\n",
              "      <th>name</th>\n",
              "      <th>seller</th>\n",
              "      <th>offerType</th>\n",
              "      <th>price</th>\n",
              "      <th>abtest</th>\n",
              "      <th>vehicleType</th>\n",
              "      <th>yearOfRegistration</th>\n",
              "      <th>gearbox</th>\n",
              "      <th>powerPS</th>\n",
              "      <th>model</th>\n",
              "      <th>kilometer</th>\n",
              "      <th>monthOfRegistration</th>\n",
              "      <th>fuelType</th>\n",
              "      <th>brand</th>\n",
              "      <th>notRepairedDamage</th>\n",
              "      <th>dateCreated</th>\n",
              "      <th>postalCode</th>\n",
              "      <th>lastSeen</th>\n",
              "      <th>yearOfCreation</th>\n",
              "      <th>yearCrawled</th>\n",
              "      <th>monthOfCreation</th>\n",
              "      <th>monthCrawled</th>\n",
              "      <th>NoOfDaysOnline</th>\n",
              "      <th>NoOfHrsOnline</th>\n",
              "      <th>yearsOld</th>\n",
              "      <th>monthsOld</th>\n",
              "    </tr>\n",
              "  </thead>\n",
              "  <tbody>\n",
              "    <tr>\n",
              "      <th>0</th>\n",
              "      <td>2016-03-24 11:52:17</td>\n",
              "      <td>Golf_3_1.6</td>\n",
              "      <td>privat</td>\n",
              "      <td>Offer</td>\n",
              "      <td>480</td>\n",
              "      <td>test</td>\n",
              "      <td>Other</td>\n",
              "      <td>1993</td>\n",
              "      <td>manuell</td>\n",
              "      <td>0</td>\n",
              "      <td>golf</td>\n",
              "      <td>150000</td>\n",
              "      <td>Jan</td>\n",
              "      <td>Gasoline</td>\n",
              "      <td>volkswagen</td>\n",
              "      <td>Other</td>\n",
              "      <td>2016-03-24 00:00:00</td>\n",
              "      <td>70435.0</td>\n",
              "      <td>2016-04-07 03:16:57</td>\n",
              "      <td>2016.0</td>\n",
              "      <td>2016.0</td>\n",
              "      <td>March</td>\n",
              "      <td>March</td>\n",
              "      <td>14.0</td>\n",
              "      <td>3.0</td>\n",
              "      <td>23.0</td>\n",
              "      <td>11.0</td>\n",
              "    </tr>\n",
              "    <tr>\n",
              "      <th>1</th>\n",
              "      <td>2016-03-23 10:58:45</td>\n",
              "      <td>A5_Sportback_2.7_Tdi</td>\n",
              "      <td>privat</td>\n",
              "      <td>Offer</td>\n",
              "      <td>18300</td>\n",
              "      <td>test</td>\n",
              "      <td>coupe</td>\n",
              "      <td>2011</td>\n",
              "      <td>manuell</td>\n",
              "      <td>190</td>\n",
              "      <td>Other</td>\n",
              "      <td>125000</td>\n",
              "      <td>May</td>\n",
              "      <td>Diesel</td>\n",
              "      <td>audi</td>\n",
              "      <td>Yes</td>\n",
              "      <td>2016-03-24 00:00:00</td>\n",
              "      <td>66954.0</td>\n",
              "      <td>2016-04-07 01:46:50</td>\n",
              "      <td>2016.0</td>\n",
              "      <td>2016.0</td>\n",
              "      <td>March</td>\n",
              "      <td>March</td>\n",
              "      <td>14.0</td>\n",
              "      <td>1.0</td>\n",
              "      <td>5.0</td>\n",
              "      <td>7.0</td>\n",
              "    </tr>\n",
              "    <tr>\n",
              "      <th>2</th>\n",
              "      <td>2016-03-14 12:52:21</td>\n",
              "      <td>Jeep_Grand_Cherokee_\"Overland\"</td>\n",
              "      <td>privat</td>\n",
              "      <td>Offer</td>\n",
              "      <td>9800</td>\n",
              "      <td>test</td>\n",
              "      <td>suv</td>\n",
              "      <td>2004</td>\n",
              "      <td>automatik</td>\n",
              "      <td>163</td>\n",
              "      <td>grand</td>\n",
              "      <td>125000</td>\n",
              "      <td>Aug</td>\n",
              "      <td>Diesel</td>\n",
              "      <td>jeep</td>\n",
              "      <td>Other</td>\n",
              "      <td>2016-03-14 00:00:00</td>\n",
              "      <td>90480.0</td>\n",
              "      <td>2016-04-04 12:47:46</td>\n",
              "      <td>2016.0</td>\n",
              "      <td>2016.0</td>\n",
              "      <td>March</td>\n",
              "      <td>March</td>\n",
              "      <td>22.0</td>\n",
              "      <td>12.0</td>\n",
              "      <td>12.0</td>\n",
              "      <td>4.0</td>\n",
              "    </tr>\n",
              "    <tr>\n",
              "      <th>3</th>\n",
              "      <td>2016-03-17 16:54:04</td>\n",
              "      <td>GOLF_4_1_4__3TÜRER</td>\n",
              "      <td>privat</td>\n",
              "      <td>Offer</td>\n",
              "      <td>1500</td>\n",
              "      <td>test</td>\n",
              "      <td>kleinwagen</td>\n",
              "      <td>2001</td>\n",
              "      <td>manuell</td>\n",
              "      <td>75</td>\n",
              "      <td>golf</td>\n",
              "      <td>150000</td>\n",
              "      <td>Jul</td>\n",
              "      <td>Gasoline</td>\n",
              "      <td>volkswagen</td>\n",
              "      <td>No</td>\n",
              "      <td>2016-03-17 00:00:00</td>\n",
              "      <td>91074.0</td>\n",
              "      <td>2016-03-17 17:40:17</td>\n",
              "      <td>2016.0</td>\n",
              "      <td>2016.0</td>\n",
              "      <td>March</td>\n",
              "      <td>March</td>\n",
              "      <td>0.0</td>\n",
              "      <td>17.0</td>\n",
              "      <td>15.0</td>\n",
              "      <td>5.0</td>\n",
              "    </tr>\n",
              "    <tr>\n",
              "      <th>4</th>\n",
              "      <td>2016-03-31 17:25:20</td>\n",
              "      <td>Skoda_Fabia_1.4_TDI_PD_Classic</td>\n",
              "      <td>privat</td>\n",
              "      <td>Offer</td>\n",
              "      <td>3600</td>\n",
              "      <td>test</td>\n",
              "      <td>kleinwagen</td>\n",
              "      <td>2008</td>\n",
              "      <td>manuell</td>\n",
              "      <td>69</td>\n",
              "      <td>fabia</td>\n",
              "      <td>90000</td>\n",
              "      <td>Jul</td>\n",
              "      <td>Diesel</td>\n",
              "      <td>skoda</td>\n",
              "      <td>No</td>\n",
              "      <td>2016-03-31 00:00:00</td>\n",
              "      <td>60437.0</td>\n",
              "      <td>2016-04-06 10:17:21</td>\n",
              "      <td>2016.0</td>\n",
              "      <td>2016.0</td>\n",
              "      <td>March</td>\n",
              "      <td>March</td>\n",
              "      <td>6.0</td>\n",
              "      <td>10.0</td>\n",
              "      <td>8.0</td>\n",
              "      <td>5.0</td>\n",
              "    </tr>\n",
              "  </tbody>\n",
              "</table>\n",
              "</div>\n",
              "      <button class=\"colab-df-convert\" onclick=\"convertToInteractive('df-c3dc9dcb-e514-4423-8c36-e33e0782f09d')\"\n",
              "              title=\"Convert this dataframe to an interactive table.\"\n",
              "              style=\"display:none;\">\n",
              "        \n",
              "  <svg xmlns=\"http://www.w3.org/2000/svg\" height=\"24px\"viewBox=\"0 0 24 24\"\n",
              "       width=\"24px\">\n",
              "    <path d=\"M0 0h24v24H0V0z\" fill=\"none\"/>\n",
              "    <path d=\"M18.56 5.44l.94 2.06.94-2.06 2.06-.94-2.06-.94-.94-2.06-.94 2.06-2.06.94zm-11 1L8.5 8.5l.94-2.06 2.06-.94-2.06-.94L8.5 2.5l-.94 2.06-2.06.94zm10 10l.94 2.06.94-2.06 2.06-.94-2.06-.94-.94-2.06-.94 2.06-2.06.94z\"/><path d=\"M17.41 7.96l-1.37-1.37c-.4-.4-.92-.59-1.43-.59-.52 0-1.04.2-1.43.59L10.3 9.45l-7.72 7.72c-.78.78-.78 2.05 0 2.83L4 21.41c.39.39.9.59 1.41.59.51 0 1.02-.2 1.41-.59l7.78-7.78 2.81-2.81c.8-.78.8-2.07 0-2.86zM5.41 20L4 18.59l7.72-7.72 1.47 1.35L5.41 20z\"/>\n",
              "  </svg>\n",
              "      </button>\n",
              "      \n",
              "  <style>\n",
              "    .colab-df-container {\n",
              "      display:flex;\n",
              "      flex-wrap:wrap;\n",
              "      gap: 12px;\n",
              "    }\n",
              "\n",
              "    .colab-df-convert {\n",
              "      background-color: #E8F0FE;\n",
              "      border: none;\n",
              "      border-radius: 50%;\n",
              "      cursor: pointer;\n",
              "      display: none;\n",
              "      fill: #1967D2;\n",
              "      height: 32px;\n",
              "      padding: 0 0 0 0;\n",
              "      width: 32px;\n",
              "    }\n",
              "\n",
              "    .colab-df-convert:hover {\n",
              "      background-color: #E2EBFA;\n",
              "      box-shadow: 0px 1px 2px rgba(60, 64, 67, 0.3), 0px 1px 3px 1px rgba(60, 64, 67, 0.15);\n",
              "      fill: #174EA6;\n",
              "    }\n",
              "\n",
              "    [theme=dark] .colab-df-convert {\n",
              "      background-color: #3B4455;\n",
              "      fill: #D2E3FC;\n",
              "    }\n",
              "\n",
              "    [theme=dark] .colab-df-convert:hover {\n",
              "      background-color: #434B5C;\n",
              "      box-shadow: 0px 1px 3px 1px rgba(0, 0, 0, 0.15);\n",
              "      filter: drop-shadow(0px 1px 2px rgba(0, 0, 0, 0.3));\n",
              "      fill: #FFFFFF;\n",
              "    }\n",
              "  </style>\n",
              "\n",
              "      <script>\n",
              "        const buttonEl =\n",
              "          document.querySelector('#df-c3dc9dcb-e514-4423-8c36-e33e0782f09d button.colab-df-convert');\n",
              "        buttonEl.style.display =\n",
              "          google.colab.kernel.accessAllowed ? 'block' : 'none';\n",
              "\n",
              "        async function convertToInteractive(key) {\n",
              "          const element = document.querySelector('#df-c3dc9dcb-e514-4423-8c36-e33e0782f09d');\n",
              "          const dataTable =\n",
              "            await google.colab.kernel.invokeFunction('convertToInteractive',\n",
              "                                                     [key], {});\n",
              "          if (!dataTable) return;\n",
              "\n",
              "          const docLinkHtml = 'Like what you see? Visit the ' +\n",
              "            '<a target=\"_blank\" href=https://colab.research.google.com/notebooks/data_table.ipynb>data table notebook</a>'\n",
              "            + ' to learn more about interactive tables.';\n",
              "          element.innerHTML = '';\n",
              "          dataTable['output_type'] = 'display_data';\n",
              "          await google.colab.output.renderOutput(dataTable, element);\n",
              "          const docLink = document.createElement('div');\n",
              "          docLink.innerHTML = docLinkHtml;\n",
              "          element.appendChild(docLink);\n",
              "        }\n",
              "      </script>\n",
              "    </div>\n",
              "  </div>\n",
              "  "
            ],
            "text/plain": [
              "           dateCrawled                            name  ... yearsOld monthsOld\n",
              "0  2016-03-24 11:52:17                      Golf_3_1.6  ...     23.0      11.0\n",
              "1  2016-03-23 10:58:45            A5_Sportback_2.7_Tdi  ...      5.0       7.0\n",
              "2  2016-03-14 12:52:21  Jeep_Grand_Cherokee_\"Overland\"  ...     12.0       4.0\n",
              "3  2016-03-17 16:54:04              GOLF_4_1_4__3TÜRER  ...     15.0       5.0\n",
              "4  2016-03-31 17:25:20  Skoda_Fabia_1.4_TDI_PD_Classic  ...      8.0       5.0\n",
              "\n",
              "[5 rows x 27 columns]"
            ]
          },
          "metadata": {},
          "execution_count": 5
        }
      ],
      "source": [
        "# Identificação das variáveis\n",
        "df.head()"
      ]
    },
    {
      "cell_type": "code",
      "execution_count": null,
      "metadata": {
        "colab": {
          "base_uri": "https://localhost:8080/",
          "height": 364
        },
        "id": "BTZsx3J5_7dU",
        "outputId": "8a898524-76af-498a-932e-a7015fd935a5"
      },
      "outputs": [
        {
          "output_type": "execute_result",
          "data": {
            "text/html": [
              "\n",
              "  <div id=\"df-fb73a4d3-a61b-43cd-b84a-c656a0a2575b\">\n",
              "    <div class=\"colab-df-container\">\n",
              "      <div>\n",
              "<style scoped>\n",
              "    .dataframe tbody tr th:only-of-type {\n",
              "        vertical-align: middle;\n",
              "    }\n",
              "\n",
              "    .dataframe tbody tr th {\n",
              "        vertical-align: top;\n",
              "    }\n",
              "\n",
              "    .dataframe thead th {\n",
              "        text-align: right;\n",
              "    }\n",
              "</style>\n",
              "<table border=\"1\" class=\"dataframe\">\n",
              "  <thead>\n",
              "    <tr style=\"text-align: right;\">\n",
              "      <th></th>\n",
              "      <th>price</th>\n",
              "      <th>yearOfRegistration</th>\n",
              "      <th>powerPS</th>\n",
              "      <th>kilometer</th>\n",
              "      <th>postalCode</th>\n",
              "      <th>yearOfCreation</th>\n",
              "      <th>yearCrawled</th>\n",
              "      <th>NoOfDaysOnline</th>\n",
              "      <th>NoOfHrsOnline</th>\n",
              "      <th>yearsOld</th>\n",
              "      <th>monthsOld</th>\n",
              "    </tr>\n",
              "  </thead>\n",
              "  <tbody>\n",
              "    <tr>\n",
              "      <th>count</th>\n",
              "      <td>111572.000000</td>\n",
              "      <td>111572.000000</td>\n",
              "      <td>111572.000000</td>\n",
              "      <td>111572.000000</td>\n",
              "      <td>111571.000000</td>\n",
              "      <td>111571.000000</td>\n",
              "      <td>111571.0</td>\n",
              "      <td>111571.000000</td>\n",
              "      <td>111571.000000</td>\n",
              "      <td>111571.000000</td>\n",
              "      <td>111571.000000</td>\n",
              "    </tr>\n",
              "    <tr>\n",
              "      <th>mean</th>\n",
              "      <td>3892.550416</td>\n",
              "      <td>2001.902449</td>\n",
              "      <td>108.974178</td>\n",
              "      <td>131347.739576</td>\n",
              "      <td>50305.381730</td>\n",
              "      <td>2015.999901</td>\n",
              "      <td>2016.0</td>\n",
              "      <td>8.549587</td>\n",
              "      <td>11.833514</td>\n",
              "      <td>14.097516</td>\n",
              "      <td>6.238799</td>\n",
              "    </tr>\n",
              "    <tr>\n",
              "      <th>std</th>\n",
              "      <td>4150.605935</td>\n",
              "      <td>6.743220</td>\n",
              "      <td>181.673612</td>\n",
              "      <td>34988.284217</td>\n",
              "      <td>25783.510231</td>\n",
              "      <td>0.009929</td>\n",
              "      <td>0.0</td>\n",
              "      <td>8.568287</td>\n",
              "      <td>6.506830</td>\n",
              "      <td>6.743240</td>\n",
              "      <td>3.457548</td>\n",
              "    </tr>\n",
              "    <tr>\n",
              "      <th>min</th>\n",
              "      <td>0.000000</td>\n",
              "      <td>1910.000000</td>\n",
              "      <td>0.000000</td>\n",
              "      <td>5000.000000</td>\n",
              "      <td>1067.000000</td>\n",
              "      <td>2015.000000</td>\n",
              "      <td>2016.0</td>\n",
              "      <td>0.000000</td>\n",
              "      <td>0.000000</td>\n",
              "      <td>0.000000</td>\n",
              "      <td>1.000000</td>\n",
              "    </tr>\n",
              "    <tr>\n",
              "      <th>25%</th>\n",
              "      <td>999.000000</td>\n",
              "      <td>1998.000000</td>\n",
              "      <td>68.000000</td>\n",
              "      <td>125000.000000</td>\n",
              "      <td>29614.000000</td>\n",
              "      <td>2016.000000</td>\n",
              "      <td>2016.0</td>\n",
              "      <td>2.000000</td>\n",
              "      <td>7.000000</td>\n",
              "      <td>10.000000</td>\n",
              "      <td>3.000000</td>\n",
              "    </tr>\n",
              "    <tr>\n",
              "      <th>50%</th>\n",
              "      <td>2450.000000</td>\n",
              "      <td>2002.000000</td>\n",
              "      <td>103.000000</td>\n",
              "      <td>150000.000000</td>\n",
              "      <td>49143.000000</td>\n",
              "      <td>2016.000000</td>\n",
              "      <td>2016.0</td>\n",
              "      <td>6.000000</td>\n",
              "      <td>12.000000</td>\n",
              "      <td>14.000000</td>\n",
              "      <td>6.000000</td>\n",
              "    </tr>\n",
              "    <tr>\n",
              "      <th>75%</th>\n",
              "      <td>5390.000000</td>\n",
              "      <td>2006.000000</td>\n",
              "      <td>140.000000</td>\n",
              "      <td>150000.000000</td>\n",
              "      <td>70806.000000</td>\n",
              "      <td>2016.000000</td>\n",
              "      <td>2016.0</td>\n",
              "      <td>13.000000</td>\n",
              "      <td>17.000000</td>\n",
              "      <td>18.000000</td>\n",
              "      <td>9.000000</td>\n",
              "    </tr>\n",
              "    <tr>\n",
              "      <th>max</th>\n",
              "      <td>28800.000000</td>\n",
              "      <td>2016.000000</td>\n",
              "      <td>19211.000000</td>\n",
              "      <td>150000.000000</td>\n",
              "      <td>99998.000000</td>\n",
              "      <td>2016.000000</td>\n",
              "      <td>2016.0</td>\n",
              "      <td>384.000000</td>\n",
              "      <td>23.000000</td>\n",
              "      <td>106.000000</td>\n",
              "      <td>11.000000</td>\n",
              "    </tr>\n",
              "  </tbody>\n",
              "</table>\n",
              "</div>\n",
              "      <button class=\"colab-df-convert\" onclick=\"convertToInteractive('df-fb73a4d3-a61b-43cd-b84a-c656a0a2575b')\"\n",
              "              title=\"Convert this dataframe to an interactive table.\"\n",
              "              style=\"display:none;\">\n",
              "        \n",
              "  <svg xmlns=\"http://www.w3.org/2000/svg\" height=\"24px\"viewBox=\"0 0 24 24\"\n",
              "       width=\"24px\">\n",
              "    <path d=\"M0 0h24v24H0V0z\" fill=\"none\"/>\n",
              "    <path d=\"M18.56 5.44l.94 2.06.94-2.06 2.06-.94-2.06-.94-.94-2.06-.94 2.06-2.06.94zm-11 1L8.5 8.5l.94-2.06 2.06-.94-2.06-.94L8.5 2.5l-.94 2.06-2.06.94zm10 10l.94 2.06.94-2.06 2.06-.94-2.06-.94-.94-2.06-.94 2.06-2.06.94z\"/><path d=\"M17.41 7.96l-1.37-1.37c-.4-.4-.92-.59-1.43-.59-.52 0-1.04.2-1.43.59L10.3 9.45l-7.72 7.72c-.78.78-.78 2.05 0 2.83L4 21.41c.39.39.9.59 1.41.59.51 0 1.02-.2 1.41-.59l7.78-7.78 2.81-2.81c.8-.78.8-2.07 0-2.86zM5.41 20L4 18.59l7.72-7.72 1.47 1.35L5.41 20z\"/>\n",
              "  </svg>\n",
              "      </button>\n",
              "      \n",
              "  <style>\n",
              "    .colab-df-container {\n",
              "      display:flex;\n",
              "      flex-wrap:wrap;\n",
              "      gap: 12px;\n",
              "    }\n",
              "\n",
              "    .colab-df-convert {\n",
              "      background-color: #E8F0FE;\n",
              "      border: none;\n",
              "      border-radius: 50%;\n",
              "      cursor: pointer;\n",
              "      display: none;\n",
              "      fill: #1967D2;\n",
              "      height: 32px;\n",
              "      padding: 0 0 0 0;\n",
              "      width: 32px;\n",
              "    }\n",
              "\n",
              "    .colab-df-convert:hover {\n",
              "      background-color: #E2EBFA;\n",
              "      box-shadow: 0px 1px 2px rgba(60, 64, 67, 0.3), 0px 1px 3px 1px rgba(60, 64, 67, 0.15);\n",
              "      fill: #174EA6;\n",
              "    }\n",
              "\n",
              "    [theme=dark] .colab-df-convert {\n",
              "      background-color: #3B4455;\n",
              "      fill: #D2E3FC;\n",
              "    }\n",
              "\n",
              "    [theme=dark] .colab-df-convert:hover {\n",
              "      background-color: #434B5C;\n",
              "      box-shadow: 0px 1px 3px 1px rgba(0, 0, 0, 0.15);\n",
              "      filter: drop-shadow(0px 1px 2px rgba(0, 0, 0, 0.3));\n",
              "      fill: #FFFFFF;\n",
              "    }\n",
              "  </style>\n",
              "\n",
              "      <script>\n",
              "        const buttonEl =\n",
              "          document.querySelector('#df-fb73a4d3-a61b-43cd-b84a-c656a0a2575b button.colab-df-convert');\n",
              "        buttonEl.style.display =\n",
              "          google.colab.kernel.accessAllowed ? 'block' : 'none';\n",
              "\n",
              "        async function convertToInteractive(key) {\n",
              "          const element = document.querySelector('#df-fb73a4d3-a61b-43cd-b84a-c656a0a2575b');\n",
              "          const dataTable =\n",
              "            await google.colab.kernel.invokeFunction('convertToInteractive',\n",
              "                                                     [key], {});\n",
              "          if (!dataTable) return;\n",
              "\n",
              "          const docLinkHtml = 'Like what you see? Visit the ' +\n",
              "            '<a target=\"_blank\" href=https://colab.research.google.com/notebooks/data_table.ipynb>data table notebook</a>'\n",
              "            + ' to learn more about interactive tables.';\n",
              "          element.innerHTML = '';\n",
              "          dataTable['output_type'] = 'display_data';\n",
              "          await google.colab.output.renderOutput(dataTable, element);\n",
              "          const docLink = document.createElement('div');\n",
              "          docLink.innerHTML = docLinkHtml;\n",
              "          element.appendChild(docLink);\n",
              "        }\n",
              "      </script>\n",
              "    </div>\n",
              "  </div>\n",
              "  "
            ],
            "text/plain": [
              "               price  yearOfRegistration  ...       yearsOld      monthsOld\n",
              "count  111572.000000       111572.000000  ...  111571.000000  111571.000000\n",
              "mean     3892.550416         2001.902449  ...      14.097516       6.238799\n",
              "std      4150.605935            6.743220  ...       6.743240       3.457548\n",
              "min         0.000000         1910.000000  ...       0.000000       1.000000\n",
              "25%       999.000000         1998.000000  ...      10.000000       3.000000\n",
              "50%      2450.000000         2002.000000  ...      14.000000       6.000000\n",
              "75%      5390.000000         2006.000000  ...      18.000000       9.000000\n",
              "max     28800.000000         2016.000000  ...     106.000000      11.000000\n",
              "\n",
              "[8 rows x 11 columns]"
            ]
          },
          "metadata": {},
          "execution_count": 6
        }
      ],
      "source": [
        "# Resumo das variáveis numéricas\n",
        "df.describe()"
      ]
    },
    {
      "cell_type": "markdown",
      "source": [
        "Tratamento de valores missing"
      ],
      "metadata": {
        "id": "uWyiKBtt4hG2"
      }
    },
    {
      "cell_type": "code",
      "execution_count": null,
      "metadata": {
        "colab": {
          "base_uri": "https://localhost:8080/"
        },
        "id": "e1DkURKK_7dV",
        "outputId": "e7d34e38-2313-403c-a987-ca8e1f1eddf0"
      },
      "outputs": [
        {
          "output_type": "execute_result",
          "data": {
            "text/plain": [
              "dateCrawled             0\n",
              "name                    0\n",
              "seller                  0\n",
              "offerType               0\n",
              "price                   0\n",
              "abtest                  0\n",
              "vehicleType             0\n",
              "yearOfRegistration      0\n",
              "gearbox                 0\n",
              "powerPS                 0\n",
              "model                   0\n",
              "kilometer               0\n",
              "monthOfRegistration     0\n",
              "fuelType               68\n",
              "brand                   0\n",
              "notRepairedDamage       0\n",
              "dateCreated             0\n",
              "postalCode              1\n",
              "lastSeen                1\n",
              "yearOfCreation          1\n",
              "yearCrawled             1\n",
              "monthOfCreation         1\n",
              "monthCrawled            1\n",
              "NoOfDaysOnline          1\n",
              "NoOfHrsOnline           1\n",
              "yearsOld                1\n",
              "monthsOld               1\n",
              "dtype: int64"
            ]
          },
          "metadata": {},
          "execution_count": 7
        }
      ],
      "source": [
        "df.isna().sum()"
      ]
    },
    {
      "cell_type": "markdown",
      "metadata": {
        "id": "mhPTX_H6_7dX"
      },
      "source": [
        "*Como é possível perceber, existem  189 registros NA de tipo de combustível (fuelType), essa informação será\n",
        "importante quando chegarmos à pergunta 4, onde esta variável será utilizada.*"
      ]
    },
    {
      "cell_type": "markdown",
      "metadata": {
        "id": "D-o2MHd__7dY"
      },
      "source": [
        "*Tratamento de outliers:\n",
        "Os outliers serão tratados na questão dois, quando avaliarmos valores discrepantes.*"
      ]
    },
    {
      "cell_type": "markdown",
      "metadata": {
        "id": "9sV125jg0cnU"
      },
      "source": [
        "**1.   Qual a distribuição de carros de acordo com o ano de registro?**"
      ]
    },
    {
      "cell_type": "markdown",
      "source": [
        "Vamos primeiro avaliar numericamente as quantidades:"
      ],
      "metadata": {
        "id": "O-UYChlz4ykr"
      }
    },
    {
      "cell_type": "code",
      "source": [
        "df['yearOfRegistration'].describe()"
      ],
      "metadata": {
        "colab": {
          "base_uri": "https://localhost:8080/"
        },
        "id": "8K0sEIJ941mH",
        "outputId": "1f2ce6e3-350e-4dc4-a42e-850b7397ce66"
      },
      "execution_count": null,
      "outputs": [
        {
          "output_type": "execute_result",
          "data": {
            "text/plain": [
              "count    111572.000000\n",
              "mean       2001.902449\n",
              "std           6.743220\n",
              "min        1910.000000\n",
              "25%        1998.000000\n",
              "50%        2002.000000\n",
              "75%        2006.000000\n",
              "max        2016.000000\n",
              "Name: yearOfRegistration, dtype: float64"
            ]
          },
          "metadata": {},
          "execution_count": 8
        }
      ]
    },
    {
      "cell_type": "code",
      "execution_count": null,
      "metadata": {
        "id": "KvO28Pru0cVJ",
        "colab": {
          "base_uri": "https://localhost:8080/",
          "height": 317
        },
        "outputId": "9d2e85c5-275a-41fe-e993-829eaee97c03"
      },
      "outputs": [
        {
          "output_type": "execute_result",
          "data": {
            "text/plain": [
              "Text(0, 0.5, 'Quantidade')"
            ]
          },
          "metadata": {},
          "execution_count": 9
        },
        {
          "output_type": "display_data",
          "data": {
            "image/png": "[encoded data removed]",
            "text/plain": [
              "<Figure size 432x288 with 1 Axes>"
            ]
          },
          "metadata": {
            "needs_background": "light"
          }
        }
      ],
      "source": [
        "plt.hist(df['yearOfRegistration'], bins = 35)\n",
        "plt.title(\"Distribuição de carros de acordo com o ano de registro\")\n",
        "plt.xlabel('Ano de Registro do Carro')\n",
        "plt.ylabel('Quantidade')"
      ]
    },
    {
      "cell_type": "markdown",
      "metadata": {
        "id": "fZnPbetY_7dc"
      },
      "source": [
        "*É possível concluir que a grande maioria dos carros foi fabricada entre os anos 90 e 2000.*"
      ]
    },
    {
      "cell_type": "markdown",
      "metadata": {
        "id": "YN-4Phgm_7dd"
      },
      "source": [
        "**2.   Avalie se existem valores discrepantes nas variações dos preços de venda de acordo com a marca.**"
      ]
    },
    {
      "cell_type": "code",
      "execution_count": null,
      "metadata": {
        "colab": {
          "base_uri": "https://localhost:8080/",
          "height": 520
        },
        "id": "n_SGq_QV_7df",
        "outputId": "c5496830-dae1-4774-94ec-c67dea5d5ca2"
      },
      "outputs": [
        {
          "output_type": "execute_result",
          "data": {
            "text/plain": [
              "Text(0, 0.5, 'Preço de Venda')"
            ]
          },
          "metadata": {},
          "execution_count": 10
        },
        {
          "output_type": "display_data",
          "data": {
            "image/png": "[encoded data removed]",
            "text/plain": [
              "<Figure size 720x576 with 1 Axes>"
            ]
          },
          "metadata": {
            "needs_background": "light"
          }
        }
      ],
      "source": [
        "ax = plt.subplots(figsize=(10,8))\n",
        "sns.boxplot(x = df['vehicleType'], y = df['price'])\n",
        "plt.xlabel(\"Tipo de Veículo\", size = 14)\n",
        "plt.ylabel(\"Preço de Venda\", size = 14)"
      ]
    },
    {
      "cell_type": "markdown",
      "source": [
        "*Os veículos do tipo Cupê (coupe), SUV (suv) e Conversível (cabrio) são o que possuem os maiores outliers, com carros sendo vendidos por mais que o dobro ou triplo da mediana.*"
      ],
      "metadata": {
        "id": "nsMt9BYKJKrc"
      }
    },
    {
      "cell_type": "markdown",
      "source": [
        "**3. Qual o número de veículos pertecentes por tipo de combustível?**"
      ],
      "metadata": {
        "id": "2YZt1oTrAYUq"
      }
    },
    {
      "cell_type": "markdown",
      "source": [
        "Como explicado anterioramente, a coluna fuelType possui 189 valores NA, por se tratar de muitos registros e todos eles são strings, foi decidido remover os valores NA."
      ],
      "metadata": {
        "id": "ym41AyYeSYtU"
      }
    },
    {
      "cell_type": "code",
      "source": [
        "df3 = df['fuelType'].copy()\n",
        "df3 = df3.dropna(axis = 0)\n",
        "df3.isna().sum()"
      ],
      "metadata": {
        "id": "bMfp835rAqoS",
        "colab": {
          "base_uri": "https://localhost:8080/"
        },
        "outputId": "80209053-28fa-4ad2-a7b3-77f9320421a5"
      },
      "execution_count": null,
      "outputs": [
        {
          "output_type": "execute_result",
          "data": {
            "text/plain": [
              "0"
            ]
          },
          "metadata": {},
          "execution_count": 11
        }
      ]
    },
    {
      "cell_type": "code",
      "source": [
        "df3.value_counts()"
      ],
      "metadata": {
        "colab": {
          "base_uri": "https://localhost:8080/"
        },
        "id": "54CWQajnUnfh",
        "outputId": "d06f7ae4-16b7-43d0-cc31-0e14de89648f"
      },
      "execution_count": null,
      "outputs": [
        {
          "output_type": "execute_result",
          "data": {
            "text/plain": [
              "Gasoline    69709\n",
              "Diesel      30623\n",
              "Other        9116\n",
              "Lpg          1788\n",
              "Cng           180\n",
              "Hybrid         64\n",
              "Electric       24\n",
              "Name: fuelType, dtype: int64"
            ]
          },
          "metadata": {},
          "execution_count": 12
        }
      ]
    },
    {
      "cell_type": "markdown",
      "source": [
        "Sem os valores NA, agora podemos fazer a distribuição."
      ],
      "metadata": {
        "id": "i77-1rJcShIn"
      }
    },
    {
      "cell_type": "markdown",
      "source": [
        "*Como observado, as quantidades de veículos a GLP ('Lpg'), gás natural comprimido ('Cng'), carro híbridos ('Hybrid') e elétricos ('Electric') são irrelevantes comparados aos maiores tipos. Por isso, para deixar a interpretação do gráfico mais simples, vamos reclassificar esses itens como \"Outros\".*"
      ],
      "metadata": {
        "id": "_K1WwESdXeIJ"
      }
    },
    {
      "cell_type": "code",
      "source": [
        "df3 = df3.replace(['Lpg','Cng','Hybrid', 'Electric'],'Other')\n",
        "df3.value_counts()"
      ],
      "metadata": {
        "colab": {
          "base_uri": "https://localhost:8080/"
        },
        "id": "ZNKkniflSmdp",
        "outputId": "d22cfe76-b945-401b-b486-61aafdb70cb5"
      },
      "execution_count": null,
      "outputs": [
        {
          "output_type": "execute_result",
          "data": {
            "text/plain": [
              "Gasoline    69709\n",
              "Diesel      30623\n",
              "Other       11172\n",
              "Name: fuelType, dtype: int64"
            ]
          },
          "metadata": {},
          "execution_count": 13
        }
      ]
    },
    {
      "cell_type": "code",
      "source": [
        "plt.subplots(figsize=(8,6))\n",
        "labels = ['Gasoline', 'Diesel', 'Other']\n",
        "plt.pie(df3.value_counts(), labels = labels, autopct='%1.1f%%')\n",
        "plt.rcParams.update({'font.size': 20})"
      ],
      "metadata": {
        "colab": {
          "base_uri": "https://localhost:8080/",
          "height": 357
        },
        "id": "PL0rpjGFWt-B",
        "outputId": "38cf2bd9-5b49-4925-9ae2-bf2c54c01046"
      },
      "execution_count": null,
      "outputs": [
        {
          "output_type": "display_data",
          "data": {
            "image/png": "[encoded data removed]",
            "text/plain": [
              "<Figure size 576x432 with 1 Axes>"
            ]
          },
          "metadata": {}
        }
      ]
    },
    {
      "cell_type": "markdown",
      "source": [
        "*Portanto, podemos concluir que 62,5% dos carros são a gasolina, 27,5% são a diesel, e 9,9% tem outros tipos de combustível.*"
      ],
      "metadata": {
        "id": "73D09Sp7aPwx"
      }
    },
    {
      "cell_type": "markdown",
      "source": [
        "**4. Qual o preço médio dos veículos de acordo com o tipo de caixa de câmbio e o tipo de combustível?**"
      ],
      "metadata": {
        "id": "1l7_IaWWAaDW"
      }
    },
    {
      "cell_type": "markdown",
      "source": [
        "Vamos adicionar na classificação recém-mudada, as variáveis gearbox e price."
      ],
      "metadata": {
        "id": "YuLgij4DYqux"
      }
    },
    {
      "cell_type": "code",
      "source": [
        "df4 = df3.copy(), df['gearbox'].copy(), df['price'].copy()\n",
        "df4 = pd.DataFrame(df4)"
      ],
      "metadata": {
        "id": "iwk_XMLeWp5X"
      },
      "execution_count": null,
      "outputs": []
    },
    {
      "cell_type": "code",
      "source": [
        "df4 = df4.transpose()\n",
        "df4.head()"
      ],
      "metadata": {
        "colab": {
          "base_uri": "https://localhost:8080/",
          "height": 206
        },
        "id": "mYhPKgKlYjMx",
        "outputId": "3ac09b63-6020-4a69-8c6e-49ee08427a3a"
      },
      "execution_count": null,
      "outputs": [
        {
          "output_type": "execute_result",
          "data": {
            "text/html": [
              "\n",
              "  <div id=\"df-0243372a-d1ee-4697-b8e3-42681f5d108e\">\n",
              "    <div class=\"colab-df-container\">\n",
              "      <div>\n",
              "<style scoped>\n",
              "    .dataframe tbody tr th:only-of-type {\n",
              "        vertical-align: middle;\n",
              "    }\n",
              "\n",
              "    .dataframe tbody tr th {\n",
              "        vertical-align: top;\n",
              "    }\n",
              "\n",
              "    .dataframe thead th {\n",
              "        text-align: right;\n",
              "    }\n",
              "</style>\n",
              "<table border=\"1\" class=\"dataframe\">\n",
              "  <thead>\n",
              "    <tr style=\"text-align: right;\">\n",
              "      <th></th>\n",
              "      <th>fuelType</th>\n",
              "      <th>gearbox</th>\n",
              "      <th>price</th>\n",
              "    </tr>\n",
              "  </thead>\n",
              "  <tbody>\n",
              "    <tr>\n",
              "      <th>0</th>\n",
              "      <td>Gasoline</td>\n",
              "      <td>manuell</td>\n",
              "      <td>480</td>\n",
              "    </tr>\n",
              "    <tr>\n",
              "      <th>1</th>\n",
              "      <td>Diesel</td>\n",
              "      <td>manuell</td>\n",
              "      <td>18300</td>\n",
              "    </tr>\n",
              "    <tr>\n",
              "      <th>2</th>\n",
              "      <td>Diesel</td>\n",
              "      <td>automatik</td>\n",
              "      <td>9800</td>\n",
              "    </tr>\n",
              "    <tr>\n",
              "      <th>3</th>\n",
              "      <td>Gasoline</td>\n",
              "      <td>manuell</td>\n",
              "      <td>1500</td>\n",
              "    </tr>\n",
              "    <tr>\n",
              "      <th>4</th>\n",
              "      <td>Diesel</td>\n",
              "      <td>manuell</td>\n",
              "      <td>3600</td>\n",
              "    </tr>\n",
              "  </tbody>\n",
              "</table>\n",
              "</div>\n",
              "      <button class=\"colab-df-convert\" onclick=\"convertToInteractive('df-0243372a-d1ee-4697-b8e3-42681f5d108e')\"\n",
              "              title=\"Convert this dataframe to an interactive table.\"\n",
              "              style=\"display:none;\">\n",
              "        \n",
              "  <svg xmlns=\"http://www.w3.org/2000/svg\" height=\"24px\"viewBox=\"0 0 24 24\"\n",
              "       width=\"24px\">\n",
              "    <path d=\"M0 0h24v24H0V0z\" fill=\"none\"/>\n",
              "    <path d=\"M18.56 5.44l.94 2.06.94-2.06 2.06-.94-2.06-.94-.94-2.06-.94 2.06-2.06.94zm-11 1L8.5 8.5l.94-2.06 2.06-.94-2.06-.94L8.5 2.5l-.94 2.06-2.06.94zm10 10l.94 2.06.94-2.06 2.06-.94-2.06-.94-.94-2.06-.94 2.06-2.06.94z\"/><path d=\"M17.41 7.96l-1.37-1.37c-.4-.4-.92-.59-1.43-.59-.52 0-1.04.2-1.43.59L10.3 9.45l-7.72 7.72c-.78.78-.78 2.05 0 2.83L4 21.41c.39.39.9.59 1.41.59.51 0 1.02-.2 1.41-.59l7.78-7.78 2.81-2.81c.8-.78.8-2.07 0-2.86zM5.41 20L4 18.59l7.72-7.72 1.47 1.35L5.41 20z\"/>\n",
              "  </svg>\n",
              "      </button>\n",
              "      \n",
              "  <style>\n",
              "    .colab-df-container {\n",
              "      display:flex;\n",
              "      flex-wrap:wrap;\n",
              "      gap: 12px;\n",
              "    }\n",
              "\n",
              "    .colab-df-convert {\n",
              "      background-color: #E8F0FE;\n",
              "      border: none;\n",
              "      border-radius: 50%;\n",
              "      cursor: pointer;\n",
              "      display: none;\n",
              "      fill: #1967D2;\n",
              "      height: 32px;\n",
              "      padding: 0 0 0 0;\n",
              "      width: 32px;\n",
              "    }\n",
              "\n",
              "    .colab-df-convert:hover {\n",
              "      background-color: #E2EBFA;\n",
              "      box-shadow: 0px 1px 2px rgba(60, 64, 67, 0.3), 0px 1px 3px 1px rgba(60, 64, 67, 0.15);\n",
              "      fill: #174EA6;\n",
              "    }\n",
              "\n",
              "    [theme=dark] .colab-df-convert {\n",
              "      background-color: #3B4455;\n",
              "      fill: #D2E3FC;\n",
              "    }\n",
              "\n",
              "    [theme=dark] .colab-df-convert:hover {\n",
              "      background-color: #434B5C;\n",
              "      box-shadow: 0px 1px 3px 1px rgba(0, 0, 0, 0.15);\n",
              "      filter: drop-shadow(0px 1px 2px rgba(0, 0, 0, 0.3));\n",
              "      fill: #FFFFFF;\n",
              "    }\n",
              "  </style>\n",
              "\n",
              "      <script>\n",
              "        const buttonEl =\n",
              "          document.querySelector('#df-0243372a-d1ee-4697-b8e3-42681f5d108e button.colab-df-convert');\n",
              "        buttonEl.style.display =\n",
              "          google.colab.kernel.accessAllowed ? 'block' : 'none';\n",
              "\n",
              "        async function convertToInteractive(key) {\n",
              "          const element = document.querySelector('#df-0243372a-d1ee-4697-b8e3-42681f5d108e');\n",
              "          const dataTable =\n",
              "            await google.colab.kernel.invokeFunction('convertToInteractive',\n",
              "                                                     [key], {});\n",
              "          if (!dataTable) return;\n",
              "\n",
              "          const docLinkHtml = 'Like what you see? Visit the ' +\n",
              "            '<a target=\"_blank\" href=https://colab.research.google.com/notebooks/data_table.ipynb>data table notebook</a>'\n",
              "            + ' to learn more about interactive tables.';\n",
              "          element.innerHTML = '';\n",
              "          dataTable['output_type'] = 'display_data';\n",
              "          await google.colab.output.renderOutput(dataTable, element);\n",
              "          const docLink = document.createElement('div');\n",
              "          docLink.innerHTML = docLinkHtml;\n",
              "          element.appendChild(docLink);\n",
              "        }\n",
              "      </script>\n",
              "    </div>\n",
              "  </div>\n",
              "  "
            ],
            "text/plain": [
              "   fuelType    gearbox  price\n",
              "0  Gasoline    manuell    480\n",
              "1    Diesel    manuell  18300\n",
              "2    Diesel  automatik   9800\n",
              "3  Gasoline    manuell   1500\n",
              "4    Diesel    manuell   3600"
            ]
          },
          "metadata": {},
          "execution_count": 16
        }
      ]
    },
    {
      "cell_type": "code",
      "source": [
        "fig, ax = plt.subplots(figsize = (8,6))\n",
        "sns.barplot(x=\"fuelType\", y=\"price\", hue=\"gearbox\", palette=\"husl\",data=df4)\n",
        "ax.set_title(\"Preço médio do veículo por tipo de combustível e tipo de caixa de câmbio\",fontdict= {'size':12})\n",
        "ax.xaxis.set_label_text(\"Tipo de Combustível\",fontdict= {'size':14})\n",
        "ax.yaxis.set_label_text(\"Preço Médio\",fontdict= {'size':14})\n",
        "plt.show()"
      ],
      "metadata": {
        "colab": {
          "base_uri": "https://localhost:8080/",
          "height": 418
        },
        "id": "3G3BF9q0Yvi1",
        "outputId": "bbd6faa8-7ad6-4e8f-8388-86b0cabd008a"
      },
      "execution_count": null,
      "outputs": [
        {
          "output_type": "display_data",
          "data": {
            "image/png": "[encoded data removed]",
            "text/plain": [
              "<Figure size 576x432 with 1 Axes>"
            ]
          },
          "metadata": {
            "needs_background": "light"
          }
        }
      ]
    },
    {
      "cell_type": "markdown",
      "source": [
        "5. Quais os tipos de veículos com a maior potência média?"
      ],
      "metadata": {
        "id": "AHs0A3IaAeBk"
      }
    },
    {
      "cell_type": "code",
      "source": [
        "fig, ax = plt.subplots(figsize = (12,6))\n",
        "sns.barplot(x=\"vehicleType\", y=\"powerPS\", palette=\"husl\",data=df)\n",
        "ax.set_title(\"Veículos com maior potência média\",fontdict= {'size':12})\n",
        "ax.xaxis.set_label_text(\"Tipos de Veículos\",fontdict= {'size':12})\n",
        "ax.yaxis.set_label_text(\"Quantidade\",fontdict= {'size':12})\n",
        "plt.rcParams.update({'font.size': 10})\n",
        "plt.show()"
      ],
      "metadata": {
        "colab": {
          "base_uri": "https://localhost:8080/",
          "height": 416
        },
        "id": "ZLXHlrvtbgdw",
        "outputId": "29619157-3696-4556-fbda-40f4248a6d12"
      },
      "execution_count": null,
      "outputs": [
        {
          "output_type": "display_data",
          "data": {
            "image/png": "[encoded data removed]",
            "text/plain": [
              "<Figure size 864x432 with 1 Axes>"
            ]
          },
          "metadata": {
            "needs_background": "light"
          }
        }
      ]
    },
    {
      "cell_type": "markdown",
      "source": [
        "*A partir do gráfico, é possível concluir que os carros tipo SUV (suv) e Cupê (Coupe) são os que possuem a maior potência média. Já os carros tipo supermini (kleinwagen) e outros tipos (other) são os que possuem a menor potência média.*"
      ],
      "metadata": {
        "id": "MZIbBdAfcmlS"
      }
    },
    {
      "cell_type": "markdown",
      "source": [
        "6. Avalie quantos veículos existem por marca."
      ],
      "metadata": {
        "id": "Km1dx_OXAkmu"
      }
    },
    {
      "cell_type": "code",
      "source": [
        "a = df['brand'].value_counts()\n",
        "a.reset_index()"
      ],
      "metadata": {
        "colab": {
          "base_uri": "https://localhost:8080/",
          "height": 1000
        },
        "id": "NCAkDMWvle3P",
        "outputId": "838ce956-5b9e-4a50-8e2e-0ab1da116f0e"
      },
      "execution_count": null,
      "outputs": [
        {
          "output_type": "execute_result",
          "data": {
            "text/html": [
              "\n",
              "  <div id=\"df-b4e6b4c2-9fd2-411e-96b4-82cc56955b46\">\n",
              "    <div class=\"colab-df-container\">\n",
              "      <div>\n",
              "<style scoped>\n",
              "    .dataframe tbody tr th:only-of-type {\n",
              "        vertical-align: middle;\n",
              "    }\n",
              "\n",
              "    .dataframe tbody tr th {\n",
              "        vertical-align: top;\n",
              "    }\n",
              "\n",
              "    .dataframe thead th {\n",
              "        text-align: right;\n",
              "    }\n",
              "</style>\n",
              "<table border=\"1\" class=\"dataframe\">\n",
              "  <thead>\n",
              "    <tr style=\"text-align: right;\">\n",
              "      <th></th>\n",
              "      <th>index</th>\n",
              "      <th>brand</th>\n",
              "    </tr>\n",
              "  </thead>\n",
              "  <tbody>\n",
              "    <tr>\n",
              "      <th>0</th>\n",
              "      <td>volkswagen</td>\n",
              "      <td>23766</td>\n",
              "    </tr>\n",
              "    <tr>\n",
              "      <th>1</th>\n",
              "      <td>opel</td>\n",
              "      <td>12811</td>\n",
              "    </tr>\n",
              "    <tr>\n",
              "      <th>2</th>\n",
              "      <td>bmw</td>\n",
              "      <td>11601</td>\n",
              "    </tr>\n",
              "    <tr>\n",
              "      <th>3</th>\n",
              "      <td>mercedes_benz</td>\n",
              "      <td>10150</td>\n",
              "    </tr>\n",
              "    <tr>\n",
              "      <th>4</th>\n",
              "      <td>audi</td>\n",
              "      <td>8894</td>\n",
              "    </tr>\n",
              "    <tr>\n",
              "      <th>5</th>\n",
              "      <td>ford</td>\n",
              "      <td>8105</td>\n",
              "    </tr>\n",
              "    <tr>\n",
              "      <th>6</th>\n",
              "      <td>renault</td>\n",
              "      <td>5848</td>\n",
              "    </tr>\n",
              "    <tr>\n",
              "      <th>7</th>\n",
              "      <td>peugeot</td>\n",
              "      <td>3679</td>\n",
              "    </tr>\n",
              "    <tr>\n",
              "      <th>8</th>\n",
              "      <td>fiat</td>\n",
              "      <td>2954</td>\n",
              "    </tr>\n",
              "    <tr>\n",
              "      <th>9</th>\n",
              "      <td>seat</td>\n",
              "      <td>2048</td>\n",
              "    </tr>\n",
              "    <tr>\n",
              "      <th>10</th>\n",
              "      <td>mazda</td>\n",
              "      <td>1926</td>\n",
              "    </tr>\n",
              "    <tr>\n",
              "      <th>11</th>\n",
              "      <td>citroen</td>\n",
              "      <td>1700</td>\n",
              "    </tr>\n",
              "    <tr>\n",
              "      <th>12</th>\n",
              "      <td>skoda</td>\n",
              "      <td>1679</td>\n",
              "    </tr>\n",
              "    <tr>\n",
              "      <th>13</th>\n",
              "      <td>smart</td>\n",
              "      <td>1618</td>\n",
              "    </tr>\n",
              "    <tr>\n",
              "      <th>14</th>\n",
              "      <td>nissan</td>\n",
              "      <td>1578</td>\n",
              "    </tr>\n",
              "    <tr>\n",
              "      <th>15</th>\n",
              "      <td>toyota</td>\n",
              "      <td>1383</td>\n",
              "    </tr>\n",
              "    <tr>\n",
              "      <th>16</th>\n",
              "      <td>hyundai</td>\n",
              "      <td>1159</td>\n",
              "    </tr>\n",
              "    <tr>\n",
              "      <th>17</th>\n",
              "      <td>sonstige_autos</td>\n",
              "      <td>1063</td>\n",
              "    </tr>\n",
              "    <tr>\n",
              "      <th>18</th>\n",
              "      <td>volvo</td>\n",
              "      <td>1058</td>\n",
              "    </tr>\n",
              "    <tr>\n",
              "      <th>19</th>\n",
              "      <td>mitsubishi</td>\n",
              "      <td>995</td>\n",
              "    </tr>\n",
              "    <tr>\n",
              "      <th>20</th>\n",
              "      <td>honda</td>\n",
              "      <td>889</td>\n",
              "    </tr>\n",
              "    <tr>\n",
              "      <th>21</th>\n",
              "      <td>kia</td>\n",
              "      <td>787</td>\n",
              "    </tr>\n",
              "    <tr>\n",
              "      <th>22</th>\n",
              "      <td>suzuki</td>\n",
              "      <td>757</td>\n",
              "    </tr>\n",
              "    <tr>\n",
              "      <th>23</th>\n",
              "      <td>alfa_romeo</td>\n",
              "      <td>691</td>\n",
              "    </tr>\n",
              "    <tr>\n",
              "      <th>24</th>\n",
              "      <td>mini</td>\n",
              "      <td>651</td>\n",
              "    </tr>\n",
              "    <tr>\n",
              "      <th>25</th>\n",
              "      <td>chevrolet</td>\n",
              "      <td>573</td>\n",
              "    </tr>\n",
              "    <tr>\n",
              "      <th>26</th>\n",
              "      <td>chrysler</td>\n",
              "      <td>494</td>\n",
              "    </tr>\n",
              "    <tr>\n",
              "      <th>27</th>\n",
              "      <td>porsche</td>\n",
              "      <td>304</td>\n",
              "    </tr>\n",
              "    <tr>\n",
              "      <th>28</th>\n",
              "      <td>dacia</td>\n",
              "      <td>294</td>\n",
              "    </tr>\n",
              "    <tr>\n",
              "      <th>29</th>\n",
              "      <td>daihatsu</td>\n",
              "      <td>280</td>\n",
              "    </tr>\n",
              "    <tr>\n",
              "      <th>30</th>\n",
              "      <td>jeep</td>\n",
              "      <td>259</td>\n",
              "    </tr>\n",
              "    <tr>\n",
              "      <th>31</th>\n",
              "      <td>subaru</td>\n",
              "      <td>255</td>\n",
              "    </tr>\n",
              "    <tr>\n",
              "      <th>32</th>\n",
              "      <td>trabant</td>\n",
              "      <td>208</td>\n",
              "    </tr>\n",
              "    <tr>\n",
              "      <th>33</th>\n",
              "      <td>land_rover</td>\n",
              "      <td>208</td>\n",
              "    </tr>\n",
              "    <tr>\n",
              "      <th>34</th>\n",
              "      <td>daewoo</td>\n",
              "      <td>180</td>\n",
              "    </tr>\n",
              "    <tr>\n",
              "      <th>35</th>\n",
              "      <td>lancia</td>\n",
              "      <td>171</td>\n",
              "    </tr>\n",
              "    <tr>\n",
              "      <th>36</th>\n",
              "      <td>saab</td>\n",
              "      <td>169</td>\n",
              "    </tr>\n",
              "    <tr>\n",
              "      <th>37</th>\n",
              "      <td>jaguar</td>\n",
              "      <td>163</td>\n",
              "    </tr>\n",
              "    <tr>\n",
              "      <th>38</th>\n",
              "      <td>rover</td>\n",
              "      <td>141</td>\n",
              "    </tr>\n",
              "    <tr>\n",
              "      <th>39</th>\n",
              "      <td>lada</td>\n",
              "      <td>83</td>\n",
              "    </tr>\n",
              "  </tbody>\n",
              "</table>\n",
              "</div>\n",
              "      <button class=\"colab-df-convert\" onclick=\"convertToInteractive('df-b4e6b4c2-9fd2-411e-96b4-82cc56955b46')\"\n",
              "              title=\"Convert this dataframe to an interactive table.\"\n",
              "              style=\"display:none;\">\n",
              "        \n",
              "  <svg xmlns=\"http://www.w3.org/2000/svg\" height=\"24px\"viewBox=\"0 0 24 24\"\n",
              "       width=\"24px\">\n",
              "    <path d=\"M0 0h24v24H0V0z\" fill=\"none\"/>\n",
              "    <path d=\"M18.56 5.44l.94 2.06.94-2.06 2.06-.94-2.06-.94-.94-2.06-.94 2.06-2.06.94zm-11 1L8.5 8.5l.94-2.06 2.06-.94-2.06-.94L8.5 2.5l-.94 2.06-2.06.94zm10 10l.94 2.06.94-2.06 2.06-.94-2.06-.94-.94-2.06-.94 2.06-2.06.94z\"/><path d=\"M17.41 7.96l-1.37-1.37c-.4-.4-.92-.59-1.43-.59-.52 0-1.04.2-1.43.59L10.3 9.45l-7.72 7.72c-.78.78-.78 2.05 0 2.83L4 21.41c.39.39.9.59 1.41.59.51 0 1.02-.2 1.41-.59l7.78-7.78 2.81-2.81c.8-.78.8-2.07 0-2.86zM5.41 20L4 18.59l7.72-7.72 1.47 1.35L5.41 20z\"/>\n",
              "  </svg>\n",
              "      </button>\n",
              "      \n",
              "  <style>\n",
              "    .colab-df-container {\n",
              "      display:flex;\n",
              "      flex-wrap:wrap;\n",
              "      gap: 12px;\n",
              "    }\n",
              "\n",
              "    .colab-df-convert {\n",
              "      background-color: #E8F0FE;\n",
              "      border: none;\n",
              "      border-radius: 50%;\n",
              "      cursor: pointer;\n",
              "      display: none;\n",
              "      fill: #1967D2;\n",
              "      height: 32px;\n",
              "      padding: 0 0 0 0;\n",
              "      width: 32px;\n",
              "    }\n",
              "\n",
              "    .colab-df-convert:hover {\n",
              "      background-color: #E2EBFA;\n",
              "      box-shadow: 0px 1px 2px rgba(60, 64, 67, 0.3), 0px 1px 3px 1px rgba(60, 64, 67, 0.15);\n",
              "      fill: #174EA6;\n",
              "    }\n",
              "\n",
              "    [theme=dark] .colab-df-convert {\n",
              "      background-color: #3B4455;\n",
              "      fill: #D2E3FC;\n",
              "    }\n",
              "\n",
              "    [theme=dark] .colab-df-convert:hover {\n",
              "      background-color: #434B5C;\n",
              "      box-shadow: 0px 1px 3px 1px rgba(0, 0, 0, 0.15);\n",
              "      filter: drop-shadow(0px 1px 2px rgba(0, 0, 0, 0.3));\n",
              "      fill: #FFFFFF;\n",
              "    }\n",
              "  </style>\n",
              "\n",
              "      <script>\n",
              "        const buttonEl =\n",
              "          document.querySelector('#df-b4e6b4c2-9fd2-411e-96b4-82cc56955b46 button.colab-df-convert');\n",
              "        buttonEl.style.display =\n",
              "          google.colab.kernel.accessAllowed ? 'block' : 'none';\n",
              "\n",
              "        async function convertToInteractive(key) {\n",
              "          const element = document.querySelector('#df-b4e6b4c2-9fd2-411e-96b4-82cc56955b46');\n",
              "          const dataTable =\n",
              "            await google.colab.kernel.invokeFunction('convertToInteractive',\n",
              "                                                     [key], {});\n",
              "          if (!dataTable) return;\n",
              "\n",
              "          const docLinkHtml = 'Like what you see? Visit the ' +\n",
              "            '<a target=\"_blank\" href=https://colab.research.google.com/notebooks/data_table.ipynb>data table notebook</a>'\n",
              "            + ' to learn more about interactive tables.';\n",
              "          element.innerHTML = '';\n",
              "          dataTable['output_type'] = 'display_data';\n",
              "          await google.colab.output.renderOutput(dataTable, element);\n",
              "          const docLink = document.createElement('div');\n",
              "          docLink.innerHTML = docLinkHtml;\n",
              "          element.appendChild(docLink);\n",
              "        }\n",
              "      </script>\n",
              "    </div>\n",
              "  </div>\n",
              "  "
            ],
            "text/plain": [
              "             index  brand\n",
              "0       volkswagen  23766\n",
              "1             opel  12811\n",
              "2              bmw  11601\n",
              "3    mercedes_benz  10150\n",
              "4             audi   8894\n",
              "5             ford   8105\n",
              "6          renault   5848\n",
              "7          peugeot   3679\n",
              "8             fiat   2954\n",
              "9             seat   2048\n",
              "10           mazda   1926\n",
              "11         citroen   1700\n",
              "12           skoda   1679\n",
              "13           smart   1618\n",
              "14          nissan   1578\n",
              "15          toyota   1383\n",
              "16         hyundai   1159\n",
              "17  sonstige_autos   1063\n",
              "18           volvo   1058\n",
              "19      mitsubishi    995\n",
              "20           honda    889\n",
              "21             kia    787\n",
              "22          suzuki    757\n",
              "23      alfa_romeo    691\n",
              "24            mini    651\n",
              "25       chevrolet    573\n",
              "26        chrysler    494\n",
              "27         porsche    304\n",
              "28           dacia    294\n",
              "29        daihatsu    280\n",
              "30            jeep    259\n",
              "31          subaru    255\n",
              "32         trabant    208\n",
              "33      land_rover    208\n",
              "34          daewoo    180\n",
              "35          lancia    171\n",
              "36            saab    169\n",
              "37          jaguar    163\n",
              "38           rover    141\n",
              "39            lada     83"
            ]
          },
          "metadata": {},
          "execution_count": 43
        }
      ]
    },
    {
      "cell_type": "markdown",
      "source": [
        "Com o número em mãos, vamo elaborar o gráfico para melhor leitura."
      ],
      "metadata": {
        "id": "naJiGAyzlqRt"
      }
    },
    {
      "cell_type": "code",
      "source": [
        "ax = plt.subplots(figsize = (10,8))\n",
        "a.sort_values(ascending = True).plot.barh(title = \"Total de Veículos por Marca\", color = \"magenta\")\n",
        "plt.xlabel(\"Quantidade\")\n",
        "plt.ylabel(\"Marca\")"
      ],
      "metadata": {
        "colab": {
          "base_uri": "https://localhost:8080/",
          "height": 535
        },
        "id": "rNdtk7oojD__",
        "outputId": "41f21076-e437-4485-b537-3ddbddaaf830"
      },
      "execution_count": null,
      "outputs": [
        {
          "output_type": "execute_result",
          "data": {
            "text/plain": [
              "Text(0, 0.5, 'Marca')"
            ]
          },
          "metadata": {},
          "execution_count": 41
        },
        {
          "output_type": "display_data",
          "data": {
            "image/png": "[encoded data removed]",
            "text/plain": [
              "<Figure size 720x576 with 1 Axes>"
            ]
          },
          "metadata": {
            "needs_background": "light"
          }
        }
      ]
    },
    {
      "cell_type": "markdown",
      "source": [
        "Muito obrigado por ter apreciado meu projeto!\n",
        "\n",
        "Fique à vontade para conferir outros projetos no meu [GitHub](https://github.com/gbrmarcos) ou visitar meu perfil no [LinkedIn](https://www.linkedin.com/in/gbrmarcos/).\n",
        "\n",
        "Um grande abraço!\n"
      ],
      "metadata": {
        "id": "JX5FhVKxlwEM"
      }
    }
  ],
  "metadata": {
    "colab": {
      "name": "MiniProjetoAutosAlemanha.ipynb",
      "provenance": [],
      "collapsed_sections": []
    },
    "kernelspec": {
      "display_name": "Python 3 (ipykernel)",
      "language": "python",
      "name": "python3"
    },
    "language_info": {
      "codemirror_mode": {
        "name": "ipython",
        "version": 3
      },
      "file_extension": ".py",
      "mimetype": "text/x-python",
      "name": "python",
      "nbconvert_exporter": "python",
      "pygments_lexer": "ipython3",
      "version": "3.9.7"
    }
  },
  "nbformat": 4,
  "nbformat_minor": 0
}