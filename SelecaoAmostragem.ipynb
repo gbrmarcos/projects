{
  "nbformat": 4,
  "nbformat_minor": 0,
  "metadata": {
    "colab": {
      "name": "Inventario3101.ipynb",
      "provenance": [],
      "collapsed_sections": []
    },
    "kernelspec": {
      "name": "python3",
      "display_name": "Python 3"
    },
    "language_info": {
      "name": "python"
    }
  },
  "cells": [
    {
      "cell_type": "markdown",
      "source": [
        "Importação dos pacotes necessários\n",
        "\n"
      ],
      "metadata": {
        "id": "Rbgra-0wQFJl"
      }
    },
    {
      "cell_type": "code",
      "execution_count": null,
      "metadata": {
        "id": "cdHOhCaf5SNC"
      },
      "outputs": [],
      "source": [
        "import random\n",
        "import pandas as pd"
      ]
    },
    {
      "cell_type": "markdown",
      "source": [
        "Criação das lista contendo os índices (Primary Key) dos itens a serem selecionados"
      ],
      "metadata": {
        "id": "0aXzEuHAQOD4"
      }
    },
    {
      "cell_type": "code",
      "source": [
        "baseFortel = pd.read_excel(\"SelecaoFortel.xlsx\", sheet_name = 0, header = 0, usecols = \"A\")\n",
        "baseWire = pd.read_excel(\"SelecaoWire.xlsx\", sheet_name = 0, header = 0, usecols = \"A\")"
      ],
      "metadata": {
        "id": "8gdcN659Uf9f"
      },
      "execution_count": null,
      "outputs": []
    },
    {
      "cell_type": "code",
      "source": [
        "baseFortel.head()"
      ],
      "metadata": {
        "id": "k3y3TcMdU6i3"
      },
      "execution_count": null,
      "outputs": []
    },
    {
      "cell_type": "code",
      "source": [
        "baseWire.head()"
      ],
      "metadata": {
        "id": "YRj4f2LjV_9B"
      },
      "execution_count": null,
      "outputs": []
    },
    {
      "cell_type": "markdown",
      "source": [
        "Seleção amostral aleatória da base de itens da Fortel, em ordem crescente\n",
        "\n"
      ],
      "metadata": {
        "id": "uYW6ODhYZBTw"
      }
    },
    {
      "cell_type": "code",
      "source": [
        "# Criação de uma lista contendo os IDs\n",
        "listaFortel = list(baseFortel['#'])"
      ],
      "metadata": {
        "id": "b3QvMWDb5T1B"
      },
      "execution_count": null,
      "outputs": []
    },
    {
      "cell_type": "code",
      "source": [
        "# Seleção de 90 itens aleatórios sem reposição (importante para não repetir item)\n",
        "selecaoFortel = random.sample(listaFortel, 90)\n",
        "selecaoFortel.sort()"
      ],
      "metadata": {
        "id": "jo1HtAYzZJvx"
      },
      "execution_count": null,
      "outputs": []
    },
    {
      "cell_type": "markdown",
      "source": [
        "Criação do arquivo .txt contendo a seleção"
      ],
      "metadata": {
        "id": "qUsQuHAUQcOY"
      }
    },
    {
      "cell_type": "code",
      "source": [
        "f = open(\"selecionadosFortel.txt\", \"w\")\n",
        "f.write(\"Os itens selecionados da Fortel foram: \\n\" + str(selecaoFortel))\n",
        "f.close()"
      ],
      "metadata": {
        "id": "wrOPNHyEZKL9"
      },
      "execution_count": null,
      "outputs": []
    },
    {
      "cell_type": "markdown",
      "source": [
        "Seleção amostral aleatória da base de itens da Wirelink, em ordem crescente"
      ],
      "metadata": {
        "id": "ZfeWgCQDZECA"
      }
    },
    {
      "cell_type": "code",
      "source": [
        "# Criação de uma lista contendo os IDs\n",
        "listaWire = list(baseWire['#'])"
      ],
      "metadata": {
        "id": "ndjXUZXn7B6M"
      },
      "execution_count": null,
      "outputs": []
    },
    {
      "cell_type": "code",
      "source": [
        "# Seleção de 90 itens aleatórios sem reposição (importante para não repetir item)\n",
        "selecaoWire = random.sample(listaWire, 60)\n",
        "selecaoWire.sort()"
      ],
      "metadata": {
        "id": "Q1mGP66IZPaN"
      },
      "execution_count": null,
      "outputs": []
    },
    {
      "cell_type": "markdown",
      "source": [
        "Criação do arquivo .txt contendo a seleção"
      ],
      "metadata": {
        "id": "OnMKmxlyQmXT"
      }
    },
    {
      "cell_type": "code",
      "source": [
        "x = open(\"selecionadosWire.txt\", \"w\")\n",
        "x.write(\"Os itens selecionados da Wirelink foram: \\n\" + str(selecaoWire))\n",
        "x.close()"
      ],
      "metadata": {
        "id": "YtvDHMfcZPxB"
      },
      "execution_count": null,
      "outputs": []
    }
  ]
}